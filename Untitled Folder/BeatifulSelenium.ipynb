{
 "cells": [
  {
   "cell_type": "code",
   "execution_count": 57,
   "metadata": {
    "scrolled": true
   },
   "outputs": [],
   "source": [
    "import time\n",
    "import re\n",
    "from selenium import webdriver\n",
    "from selenium.webdriver.common.keys import Keys"
   ]
  },
  {
   "cell_type": "code",
   "execution_count": 64,
   "metadata": {},
   "outputs": [],
   "source": [
    "email = \"kamal.dasec@gmail.com\"\n",
    "pwd = \"kamaldasec2021\"\n",
    "PATH = \"C:\\Program Files (x86)\\chromedriver\"\n",
    "url = \"https://mbasic.facebook.com/INPTEnactus\"\n",
    "driver = webdriver.Chrome(PATH)\n",
    "driver.get(url)"
   ]
  },
  {
   "cell_type": "code",
   "execution_count": 65,
   "metadata": {},
   "outputs": [],
   "source": [
    "page_source = driver.page_source\n",
    "\n",
    "from bs4 import BeautifulSoup\n",
    "\n",
    "soup = BeautifulSoup(page_source, 'lxml')\n",
    "\n",
    "text = soup.find(attrs={ \"id\" : \"timelineBody\" })\n",
    "\n",
    "articles = text.findAll(\"article\", \"class\"==\"cr ds ev\")"
   ]
  },
  {
   "cell_type": "code",
   "execution_count": 68,
   "metadata": {},
   "outputs": [
    {
     "data": {
      "text/plain": [
       "'نحن طلبة المعهد الوطني للبريد و المواصلات، نتقدم لكم بهذه الرسالة بهدف تسليط الضوء على الأوضاع المزرية التي يعيشها طلبة المعهد، بدرجات متفاوتة منذ بداية الجائحة. • حيث منهم من تضرر من صيغة التعليم عن بعد، سواء بسبب أوضاعهم المادية، أو انعدام تغطية شبكة الأنترنت بمناطق سكناهم، أو لاعتبارات شخصية…'"
      ]
     },
     "execution_count": 68,
     "metadata": {},
     "output_type": "execute_result"
    }
   ],
   "source": [
    "text_post = articles[3].findAll(\"p\")\n",
    "text_post[0].text"
   ]
  },
  {
   "cell_type": "code",
   "execution_count": null,
   "metadata": {},
   "outputs": [],
   "source": []
  },
  {
   "cell_type": "code",
   "execution_count": null,
   "metadata": {},
   "outputs": [],
   "source": []
  },
  {
   "cell_type": "code",
   "execution_count": null,
   "metadata": {},
   "outputs": [],
   "source": []
  },
  {
   "cell_type": "code",
   "execution_count": null,
   "metadata": {},
   "outputs": [],
   "source": []
  },
  {
   "cell_type": "code",
   "execution_count": null,
   "metadata": {},
   "outputs": [],
   "source": []
  }
 ],
 "metadata": {
  "kernelspec": {
   "display_name": "Python 3",
   "language": "python",
   "name": "python3"
  },
  "language_info": {
   "codemirror_mode": {
    "name": "ipython",
    "version": 3
   },
   "file_extension": ".py",
   "mimetype": "text/x-python",
   "name": "python",
   "nbconvert_exporter": "python",
   "pygments_lexer": "ipython3",
   "version": "3.8.3"
  }
 },
 "nbformat": 4,
 "nbformat_minor": 4
}
